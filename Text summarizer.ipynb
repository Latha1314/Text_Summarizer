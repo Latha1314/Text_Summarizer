{
 "cells": [
  {
   "cell_type": "code",
   "execution_count": 7,
   "id": "2689db6b-6d4e-4b1f-bcd9-40eed78a692b",
   "metadata": {},
   "outputs": [
    {
     "name": "stdout",
     "output_type": "stream",
     "text": [
      "Requirement already satisfied: transformers in c:\\users\\latha m\\desktop\\lib\\site-packages (4.56.2)Note: you may need to restart the kernel to use updated packages.\n",
      "\n",
      "Requirement already satisfied: filelock in c:\\users\\latha m\\desktop\\lib\\site-packages (from transformers) (3.13.1)\n",
      "Requirement already satisfied: huggingface-hub<1.0,>=0.34.0 in c:\\users\\latha m\\desktop\\lib\\site-packages (from transformers) (0.35.3)\n",
      "Requirement already satisfied: numpy>=1.17 in c:\\users\\latha m\\desktop\\lib\\site-packages (from transformers) (1.26.4)\n",
      "Requirement already satisfied: packaging>=20.0 in c:\\users\\latha m\\desktop\\lib\\site-packages (from transformers) (24.1)\n",
      "Requirement already satisfied: pyyaml>=5.1 in c:\\users\\latha m\\desktop\\lib\\site-packages (from transformers) (6.0.1)\n",
      "Requirement already satisfied: regex!=2019.12.17 in c:\\users\\latha m\\desktop\\lib\\site-packages (from transformers) (2024.9.11)\n",
      "Requirement already satisfied: requests in c:\\users\\latha m\\desktop\\lib\\site-packages (from transformers) (2.32.3)\n",
      "Requirement already satisfied: tokenizers<=0.23.0,>=0.22.0 in c:\\users\\latha m\\desktop\\lib\\site-packages (from transformers) (0.22.1)\n",
      "Requirement already satisfied: safetensors>=0.4.3 in c:\\users\\latha m\\desktop\\lib\\site-packages (from transformers) (0.5.3)\n",
      "Requirement already satisfied: tqdm>=4.27 in c:\\users\\latha m\\desktop\\lib\\site-packages (from transformers) (4.66.5)\n",
      "Requirement already satisfied: fsspec>=2023.5.0 in c:\\users\\latha m\\desktop\\lib\\site-packages (from huggingface-hub<1.0,>=0.34.0->transformers) (2024.6.1)\n",
      "Requirement already satisfied: typing-extensions>=3.7.4.3 in c:\\users\\latha m\\desktop\\lib\\site-packages (from huggingface-hub<1.0,>=0.34.0->transformers) (4.13.2)\n",
      "Requirement already satisfied: colorama in c:\\users\\latha m\\desktop\\lib\\site-packages (from tqdm>=4.27->transformers) (0.4.6)\n",
      "Requirement already satisfied: charset-normalizer<4,>=2 in c:\\users\\latha m\\desktop\\lib\\site-packages (from requests->transformers) (3.3.2)\n",
      "Requirement already satisfied: idna<4,>=2.5 in c:\\users\\latha m\\desktop\\lib\\site-packages (from requests->transformers) (3.7)\n",
      "Requirement already satisfied: urllib3<3,>=1.21.1 in c:\\users\\latha m\\desktop\\lib\\site-packages (from requests->transformers) (2.2.3)\n",
      "Requirement already satisfied: certifi>=2017.4.17 in c:\\users\\latha m\\desktop\\lib\\site-packages (from requests->transformers) (2024.8.30)\n"
     ]
    },
    {
     "name": "stderr",
     "output_type": "stream",
     "text": [
      "WARNING: Ignoring invalid distribution ~ransformers (C:\\Users\\LATHA M\\Desktop\\Lib\\site-packages)\n",
      "WARNING: Ignoring invalid distribution ~ransformers (C:\\Users\\LATHA M\\Desktop\\Lib\\site-packages)\n",
      "WARNING: Ignoring invalid distribution ~ransformers (C:\\Users\\LATHA M\\Desktop\\Lib\\site-packages)\n"
     ]
    }
   ],
   "source": [
    "pip install transformers"
   ]
  },
  {
   "cell_type": "code",
   "execution_count": 11,
   "id": "cd075add-95c2-4121-bd00-6972f46456e4",
   "metadata": {},
   "outputs": [
    {
     "name": "stderr",
     "output_type": "stream",
     "text": [
      "Device set to use cpu\n"
     ]
    },
    {
     "name": "stdout",
     "output_type": "stream",
     "text": [
      "Original Text:\n",
      "  \n",
      "Artificial Intelligence (AI) is rapidly transforming the way humans interact with technology and the world around them. At its core, AI refers to the simulation of human intelligence processes by machines, particularly computer systems. These processes include learning, reasoning, problem-solving, perception, and language understanding. Over the past few decades, AI has evolved from a theoretical concept to a practical technology that powers many aspects of modern life.\n",
      "One of the most significant developments in AI is machine learning (ML), a subset of AI that allows machines to learn from data and improve their performance over time without being explicitly programmed. Machine learning models analyze large datasets, identify patterns, and make predictions or decisions based on these patterns. For example, recommendation systems used by platforms like Netflix and Amazon rely heavily on machine learning algorithms to suggest content or products tailored to individual user preferences.\n",
      "Another critical area is natural language processing (NLP), which enables machines to understand, interpret, and respond to human language. NLP applications include virtual assistants like Siri and Alexa, automated translation services, chatbots, and sentiment analysis tools. By understanding human language, AI systems can interact with users more naturally, making technology more accessible and user-friendly.\n",
      "AI has also revolutionized the field of computer vision, where machines are trained to recognize and interpret visual information from the world. Applications range from facial recognition and autonomous vehicles to medical imaging and industrial automation. In healthcare, AI-powered diagnostic systems can analyze medical images with remarkable accuracy, assisting doctors in detecting diseases such as cancer at early stages, thereby improving patient outcomes.\n",
      "In addition to these technical advancements, AI has profound economic and societal impacts. Industries across the board—from finance and retail to agriculture and manufacturing—are leveraging AI to enhance efficiency, reduce costs, and create innovative solutions. For instance, in agriculture, AI-driven drones and sensors monitor crop health and optimize irrigation, leading to better yields and resource management. In finance, AI algorithms detect fraudulent transactions in real time, protecting consumers and financial institutions.\n",
      "However, the rise of AI also presents significant challenges and ethical considerations. Concerns about privacy, bias, and job displacement have sparked debates among policymakers, technologists, and society at large. AI systems can unintentionally reinforce existing biases if trained on unrepresentative data, leading to unfair decision-making in areas like hiring, lending, and law enforcement. Additionally, automation powered by AI may replace certain jobs, requiring workers to acquire new skills and adapt to changing economic landscapes.\n",
      "To address these challenges, researchers and organizations are emphasizing responsible AI practices, focusing on transparency, accountability, fairness, and human oversight. Governments and international bodies are also developing guidelines and regulations to ensure that AI technologies are deployed safely and ethically. Collaboration between industry, academia, and policymakers is crucial to balance innovation with societal well-being.\n",
      "Looking forward, the future of AI holds enormous potential. Advances in areas like reinforcement learning, generative AI, and quantum computing promise to unlock new capabilities and applications. Generative AI, for instance, can create realistic images, videos, music, and text, opening possibilities in entertainment, design, education, and content creation. Reinforcement learning allows AI systems to learn optimal strategies through trial and error, improving decision-making in complex environments such as robotics and autonomous systems.\n",
      "In conclusion, AI is no longer a futuristic concept—it is a transformative force shaping nearly every aspect of human life. Its applications span across industries, enhancing efficiency, creativity, and decision-making. Yet, with great power comes great responsibility: ethical, social, and economic considerations must guide the development and deployment of AI. By embracing responsible practices and fostering collaboration, society can harness the immense potential of AI while mitigating its risks, ultimately creating a future where humans and intelligent machines coexist and thrive together.\n",
      "\n",
      "\n",
      " Summarized Text:\n",
      " Artificial Intelligence (AI) is rapidly transforming the way humans interact with technology. Industries across the board are leveraging AI to enhance efficiency, reduce costs, and create innovative solutions. Concerns about privacy, bias, and job displacement have sparked debates among policymakers, technologists, and society at large.\n"
     ]
    }
   ],
   "source": [
    "from transformers import pipeline \n",
    "summarizer = pipeline(\"summarization\", model=\"facebook/bart-large-cnn\") \n",
    "long_text = \"\"\" \n",
    "Artificial Intelligence (AI) is rapidly transforming the way humans interact with technology and the world around them. At its core, AI refers to the simulation of human intelligence processes by machines, particularly computer systems. These processes include learning, reasoning, problem-solving, perception, and language understanding. Over the past few decades, AI has evolved from a theoretical concept to a practical technology that powers many aspects of modern life.\n",
    "One of the most significant developments in AI is machine learning (ML), a subset of AI that allows machines to learn from data and improve their performance over time without being explicitly programmed. Machine learning models analyze large datasets, identify patterns, and make predictions or decisions based on these patterns. For example, recommendation systems used by platforms like Netflix and Amazon rely heavily on machine learning algorithms to suggest content or products tailored to individual user preferences.\n",
    "Another critical area is natural language processing (NLP), which enables machines to understand, interpret, and respond to human language. NLP applications include virtual assistants like Siri and Alexa, automated translation services, chatbots, and sentiment analysis tools. By understanding human language, AI systems can interact with users more naturally, making technology more accessible and user-friendly.\n",
    "AI has also revolutionized the field of computer vision, where machines are trained to recognize and interpret visual information from the world. Applications range from facial recognition and autonomous vehicles to medical imaging and industrial automation. In healthcare, AI-powered diagnostic systems can analyze medical images with remarkable accuracy, assisting doctors in detecting diseases such as cancer at early stages, thereby improving patient outcomes.\n",
    "In addition to these technical advancements, AI has profound economic and societal impacts. Industries across the board—from finance and retail to agriculture and manufacturing—are leveraging AI to enhance efficiency, reduce costs, and create innovative solutions. For instance, in agriculture, AI-driven drones and sensors monitor crop health and optimize irrigation, leading to better yields and resource management. In finance, AI algorithms detect fraudulent transactions in real time, protecting consumers and financial institutions.\n",
    "However, the rise of AI also presents significant challenges and ethical considerations. Concerns about privacy, bias, and job displacement have sparked debates among policymakers, technologists, and society at large. AI systems can unintentionally reinforce existing biases if trained on unrepresentative data, leading to unfair decision-making in areas like hiring, lending, and law enforcement. Additionally, automation powered by AI may replace certain jobs, requiring workers to acquire new skills and adapt to changing economic landscapes.\n",
    "To address these challenges, researchers and organizations are emphasizing responsible AI practices, focusing on transparency, accountability, fairness, and human oversight. Governments and international bodies are also developing guidelines and regulations to ensure that AI technologies are deployed safely and ethically. Collaboration between industry, academia, and policymakers is crucial to balance innovation with societal well-being.\n",
    "Looking forward, the future of AI holds enormous potential. Advances in areas like reinforcement learning, generative AI, and quantum computing promise to unlock new capabilities and applications. Generative AI, for instance, can create realistic images, videos, music, and text, opening possibilities in entertainment, design, education, and content creation. Reinforcement learning allows AI systems to learn optimal strategies through trial and error, improving decision-making in complex environments such as robotics and autonomous systems.\n",
    "In conclusion, AI is no longer a futuristic concept—it is a transformative force shaping nearly every aspect of human life. Its applications span across industries, enhancing efficiency, creativity, and decision-making. Yet, with great power comes great responsibility: ethical, social, and economic considerations must guide the development and deployment of AI. By embracing responsible practices and fostering collaboration, society can harness the immense potential of AI while mitigating its risks, ultimately creating a future where humans and intelligent machines coexist and thrive together.\n",
    "\"\"\"\n",
    "summary = summarizer(long_text, max_length=130, min_length=50, do_sample=False)[0]['summary_text']\n",
    "print(\"Original Text:\\n\", long_text) \n",
    "print(\"\\n Summarized Text:\\n\", summary)"
   ]
  },
  {
   "cell_type": "code",
   "execution_count": null,
   "id": "9ede9bd3-8de9-4b95-a1c9-30abd0b87320",
   "metadata": {},
   "outputs": [],
   "source": []
  }
 ],
 "metadata": {
  "kernelspec": {
   "display_name": "Python 3 (ipykernel)",
   "language": "python",
   "name": "python3"
  },
  "language_info": {
   "codemirror_mode": {
    "name": "ipython",
    "version": 3
   },
   "file_extension": ".py",
   "mimetype": "text/x-python",
   "name": "python",
   "nbconvert_exporter": "python",
   "pygments_lexer": "ipython3",
   "version": "3.12.7"
  }
 },
 "nbformat": 4,
 "nbformat_minor": 5
}
